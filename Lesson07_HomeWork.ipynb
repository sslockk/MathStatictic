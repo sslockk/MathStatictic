{
 "cells": [
  {
   "cell_type": "code",
   "execution_count": 1,
   "metadata": {},
   "outputs": [],
   "source": [
    "import numpy as np\n",
    "import matplotlib.pyplot as plt\n",
    "import seaborn as sns\n",
    "%matplotlib inline"
   ]
  },
  {
   "cell_type": "markdown",
   "metadata": {},
   "source": [
    "1) Даны значения величины заработной платы заемщиков банка (zp) и значения их поведенческого кредитного скоринга (ks): zp = [35, 45, 190, 200, 40, 70, 54, 150, 120, 110], ks = [401, 574, 874, 919, 459, 739, 653, 902, 746, 832]. Используя математические операции, посчитать коэффициенты линейной регрессии, приняв за X заработную плату (то есть, zp - признак), а за y - значения скорингового балла (то есть, ks - целевая переменная). Произвести расчет как с использованием intercept, так и без."
   ]
  },
  {
   "cell_type": "code",
   "execution_count": 2,
   "metadata": {},
   "outputs": [],
   "source": [
    "zp = np.array([35, 45, 190, 200, 40, 70, 54, 150, 120, 110])\n",
    "ks = np.array([401, 574, 874, 919, 459, 739, 653, 902, 746, 832])"
   ]
  },
  {
   "cell_type": "code",
   "execution_count": 3,
   "metadata": {},
   "outputs": [],
   "source": [
    "X = zp.copy()\n",
    "y = ks.copy()"
   ]
  },
  {
   "cell_type": "code",
   "execution_count": 4,
   "metadata": {},
   "outputs": [
    {
     "data": {
      "text/plain": [
       "2.620538882402765"
      ]
     },
     "execution_count": 4,
     "metadata": {},
     "output_type": "execute_result"
    }
   ],
   "source": [
    "b = (np.mean(X*y) - np.mean(X)*np.mean(y)) / (np.mean(X**2) - np.mean(X)**2)\n",
    "b"
   ]
  },
  {
   "cell_type": "code",
   "execution_count": 5,
   "metadata": {},
   "outputs": [
    {
     "data": {
      "text/plain": [
       "444.1773573243596"
      ]
     },
     "execution_count": 5,
     "metadata": {},
     "output_type": "execute_result"
    }
   ],
   "source": [
    "a = np.mean(y) - b * np.mean(X)\n",
    "a"
   ]
  },
  {
   "cell_type": "code",
   "execution_count": 6,
   "metadata": {},
   "outputs": [],
   "source": [
    "y_pred = a + X * b"
   ]
  },
  {
   "cell_type": "code",
   "execution_count": 7,
   "metadata": {},
   "outputs": [
    {
     "data": {
      "text/plain": [
       "6470.414201176658"
      ]
     },
     "execution_count": 7,
     "metadata": {},
     "output_type": "execute_result"
    }
   ],
   "source": [
    "mse_ = np.sum((y_pred - y)**2) / len(X)\n",
    "mse_"
   ]
  },
  {
   "cell_type": "code",
   "execution_count": 8,
   "metadata": {},
   "outputs": [
    {
     "data": {
      "image/png": "[encoded data removed]",
      "text/plain": [
       "<Figure size 432x288 with 1 Axes>"
      ]
     },
     "metadata": {
      "needs_background": "light"
     },
     "output_type": "display_data"
    }
   ],
   "source": [
    "plt.scatter(X, y);\n",
    "plt.plot(X, y_pred);\n",
    "plt.title('Распределение реальных значений и линия регрессии с минимальной среднеквадратичной ошибкой');\n",
    "plt.xlabel('Заработная плата');  plt.ylabel('Кредитный скоринг');"
   ]
  },
  {
   "cell_type": "code",
   "execution_count": null,
   "metadata": {},
   "outputs": [],
   "source": []
  },
  {
   "cell_type": "markdown",
   "metadata": {},
   "source": [
    "2) Посчитать коэффициент линейной регрессии при заработной плате (zp), используя градиентный спуск (без intercept)."
   ]
  },
  {
   "cell_type": "code",
   "execution_count": 9,
   "metadata": {},
   "outputs": [],
   "source": [
    "def mse_(w1, y=y[0], X=X[1], n=len(X)):\n",
    "    return np.sum((w1*X - y)**2) / n"
   ]
  },
  {
   "cell_type": "code",
   "execution_count": 10,
   "metadata": {},
   "outputs": [
    {
     "data": {
      "text/plain": [
       "array([[  1.,   1.,   1.,   1.,   1.,   1.,   1.,   1.,   1.,   1.],\n",
       "       [ 35.,  45., 190., 200.,  40.,  70.,  54., 150., 120., 110.]])"
      ]
     },
     "execution_count": 10,
     "metadata": {},
     "output_type": "execute_result"
    }
   ],
   "source": [
    "X = X.reshape(-1)\n",
    "X = np.vstack([np.ones((1, len(X))), X])\n",
    "X"
   ]
  },
  {
   "cell_type": "code",
   "execution_count": 11,
   "metadata": {},
   "outputs": [
    {
     "data": {
      "text/plain": [
       "array([[401, 574, 874, 919, 459, 739, 653, 902, 746, 832]])"
      ]
     },
     "execution_count": 11,
     "metadata": {},
     "output_type": "execute_result"
    }
   ],
   "source": [
    "y = y.reshape((1, len(y)))\n",
    "y"
   ]
  },
  {
   "cell_type": "code",
   "execution_count": 12,
   "metadata": {},
   "outputs": [],
   "source": [
    "alpha = 1e-8"
   ]
  },
  {
   "cell_type": "code",
   "execution_count": 13,
   "metadata": {},
   "outputs": [
    {
     "data": {
      "text/plain": [
       "0.1"
      ]
     },
     "execution_count": 13,
     "metadata": {},
     "output_type": "execute_result"
    }
   ],
   "source": [
    "w1 = 0.1\n",
    "w1"
   ]
  },
  {
   "cell_type": "code",
   "execution_count": 14,
   "metadata": {},
   "outputs": [
    {
     "name": "stdout",
     "output_type": "stream",
     "text": [
      "Iteration: 0, w1 = 0.10797640400000001, mse=15692.774085987705\n",
      "Iteration: 1000, w1 = 4.433208961131227, mse=4060.4505521208803\n",
      "Iteration: 2000, w1 = 5.522858437662347, mse=2324.7518762743716\n",
      "Iteration: 3000, w1 = 5.79737222761958, mse=1963.3123914998341\n",
      "Iteration: 4000, w1 = 5.8665300829664115, mse=1877.0684114800745\n",
      "Iteration: 5000, w1 = 5.883952919746006, mse=1855.6465598986426\n",
      "Iteration: 6000, w1 = 5.888342229390233, mse=1850.2691717407683\n",
      "Iteration: 7000, w1 = 5.889448021713085, mse=1848.9156847306608\n",
      "Iteration: 8000, w1 = 5.889726602346561, mse=1848.5747808349872\n",
      "Iteration: 9000, w1 = 5.889796784755805, mse=1848.4889023745636\n"
     ]
    }
   ],
   "source": [
    "for i in range(10000):\n",
    "    y_pred1 = w1*X[1]\n",
    "    w1 -= alpha * (2/len(X)) * np.sum((y_pred1 - y) * X[1]) \n",
    "    if i%1000 == 0:\n",
    "        print('Iteration: {i}, w1 = {w1}, mse={mse}'.format(i=i, w1=w1, mse=mse_(w1)))"
   ]
  },
  {
   "cell_type": "code",
   "execution_count": 15,
   "metadata": {},
   "outputs": [
    {
     "name": "stdout",
     "output_type": "stream",
     "text": [
      "Коэффициент линейной регрессии при заработной плате (zp), используя градиентный спуск (без intercept). -  5.88981445749245\n"
     ]
    }
   ],
   "source": [
    "print('Коэффициент линейной регрессии при заработной плате (zp), используя градиентный спуск (без intercept). - ', w1)"
   ]
  },
  {
   "cell_type": "markdown",
   "metadata": {},
   "source": [
    "3) В каких случаях для вычисления доверительных интервалов и проверки статистических гипотез используется таблица значений функции Лапласа, а в каких - таблица критических точек распределения Стьюдента?"
   ]
  },
  {
   "cell_type": "code",
   "execution_count": 16,
   "metadata": {},
   "outputs": [],
   "source": [
    "# При кол-ве наблюдений менее 30 используеться таблица Стьюдента, в других случаях - таблица Лапласа"
   ]
  },
  {
   "cell_type": "code",
   "execution_count": null,
   "metadata": {},
   "outputs": [],
   "source": []
  },
  {
   "cell_type": "markdown",
   "metadata": {},
   "source": [
    "4)  Произвести вычисления как в пункте 2, но с вычислением intercept. Учесть, что изменение коэффициентов должно производиться\n",
    "на каждом шаге одновременно (то есть изменение одного коэффициента не должно влиять на изменение другого во время одной итерации)."
   ]
  },
  {
   "cell_type": "code",
   "execution_count": 23,
   "metadata": {},
   "outputs": [],
   "source": [
    "X = np.array([35, 45, 190, 200, 40, 70, 54, 150, 120, 110])\n",
    "y = np.array([401, 574, 874, 919, 459, 739, 653, 902, 746, 832])"
   ]
  },
  {
   "cell_type": "code",
   "execution_count": 24,
   "metadata": {},
   "outputs": [
    {
     "data": {
      "text/plain": [
       "array([[  1.,   1.,   1.,   1.,   1.,   1.,   1.,   1.,   1.,   1.],\n",
       "       [ 35.,  45., 190., 200.,  40.,  70.,  54., 150., 120., 110.]])"
      ]
     },
     "execution_count": 24,
     "metadata": {},
     "output_type": "execute_result"
    }
   ],
   "source": [
    "X = X.reshape(-1)\n",
    "X = np.vstack([np.ones((1, len(X))), X])\n",
    "X"
   ]
  },
  {
   "cell_type": "code",
   "execution_count": 25,
   "metadata": {},
   "outputs": [
    {
     "data": {
      "text/plain": [
       "array([[401, 574, 874, 919, 459, 739, 653, 902, 746, 832]])"
      ]
     },
     "execution_count": 25,
     "metadata": {},
     "output_type": "execute_result"
    }
   ],
   "source": [
    "y = y.reshape((1, len(y)))\n",
    "y"
   ]
  },
  {
   "cell_type": "code",
   "execution_count": 20,
   "metadata": {},
   "outputs": [],
   "source": [
    "def mse2(y, y_pred):\n",
    "    n = y.shape[1]\n",
    "    err = np.sum((y - y_pred)**2) / n\n",
    "    return err"
   ]
  },
  {
   "cell_type": "code",
   "execution_count": 42,
   "metadata": {},
   "outputs": [
    {
     "name": "stdout",
     "output_type": "stream",
     "text": [
      "Iteration: 0, w0 = 0.19095579999999998, w1 = 10.468006999999998, mse=518196.3839999999\n",
      "Iteration: 10000, w0 = 124.88157457594403, w1 = 4.970697012205843, mse=32333.205888889537\n",
      "Iteration: 20000, w0 = 214.57109568034906, w1 = 4.310542482862289, mse=19844.26556609266\n",
      "Iteration: 30000, w0 = 279.06701689848006, w1 = 3.835823987412064, mse=13386.137085641796\n",
      "Iteration: 40000, w0 = 325.4461680251047, w1 = 3.494452929719498, mse=10046.588461657768\n",
      "Iteration: 50000, w0 = 358.797512088416, w1 = 3.2489722919372896, mse=8319.681812817931\n",
      "Iteration: 60000, w0 = 382.7805329891772, w1 = 3.0724466546050477, mse=7426.684911263728\n",
      "Iteration: 70000, w0 = 400.0267732136946, w1 = 2.945506701551792, mse=6964.909246249529\n",
      "Iteration: 80000, w0 = 412.42858043858246, w1 = 2.8542239172226735, mse=6726.121447066655\n",
      "Iteration: 90000, w0 = 421.3467458149796, w1 = 2.78858227710498, mse=6602.642413071083\n",
      "Iteration: 100000, w0 = 427.7598170906824, w1 = 2.7413792371341246, mse=6538.790441200463\n",
      "Iteration: 110000, w0 = 432.3714699869295, w1 = 2.707435432888878, mse=6505.772088368876\n",
      "Iteration: 120000, w0 = 435.6877191787947, w1 = 2.6830263726387593, mse=6488.69804050833\n",
      "Iteration: 130000, w0 = 438.0724408718624, w1 = 2.6654737666317554, mse=6479.868917146783\n",
      "Iteration: 140000, w0 = 439.7872992025721, w1 = 2.6528516511353115, mse=6475.303308571127\n",
      "Iteration: 150000, w0 = 441.02045739581376, w1 = 2.643775061622497, mse=6472.942396755472\n",
      "Iteration: 160000, w0 = 441.90722401806124, w1 = 2.637248067220711, mse=6471.721550835612\n",
      "Iteration: 170000, w0 = 442.5448997409664, w1 = 2.6325544919674964, mse=6471.090241885332\n",
      "Iteration: 180000, w0 = 443.0034536799414, w1 = 2.629179332238298, mse=6470.7637871016295\n",
      "Iteration: 190000, w0 = 443.33320077144543, w1 = 2.626752247855265, mse=6470.594974785956\n"
     ]
    }
   ],
   "source": [
    "W = np.array([[0.1, 0.1]])\n",
    "\n",
    "alpha = 13*1e-6\n",
    "\n",
    "for i in range(200000):\n",
    "    y_pred = np.dot(W, X)\n",
    "    W[0, 0] -= alpha * (2/len(X)) * np.sum((y_pred - y)) \n",
    "    W[0, 1] -= alpha * (2/len(X)) * np.sum((y_pred - y) * X[1]) \n",
    "    if i%10000 == 0:\n",
    "        print('Iteration: {i}, w0 = {w0}, w1 = {w1}, mse={mse}'.format(i=i, w0=W[0, 0],\n",
    "                                                            w1=W[0, 1], mse=mse2(y, y_pred)))"
   ]
  },
  {
   "cell_type": "code",
   "execution_count": 45,
   "metadata": {},
   "outputs": [
    {
     "name": "stdout",
     "output_type": "stream",
     "text": [
      "Коэффициент линейной регрессии при заработной плате (zp), используя градиентный спуск. -  443.5703025735385\n",
      "intercept линейной регрессии при заработной плате (zp), используя градиентный спуск. -  2.6250070737631304\n"
     ]
    }
   ],
   "source": [
    "print('Коэффициент линейной регрессии при заработной плате (zp), используя градиентный спуск. - ', W[0, 0]) \n",
    "print('intercept линейной регрессии при заработной плате (zp), используя градиентный спуск. - ', W[0, 1])"
   ]
  }
 ],
 "metadata": {
  "kernelspec": {
   "display_name": "Python 3",
   "language": "python",
   "name": "python3"
  },
  "language_info": {
   "codemirror_mode": {
    "name": "ipython",
    "version": 3
   },
   "file_extension": ".py",
   "mimetype": "text/x-python",
   "name": "python",
   "nbconvert_exporter": "python",
   "pygments_lexer": "ipython3",
   "version": "3.7.1"
  }
 },
 "nbformat": 4,
 "nbformat_minor": 2
}
