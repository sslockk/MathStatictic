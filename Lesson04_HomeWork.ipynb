{
 "cells": [
  {
   "cell_type": "code",
   "execution_count": 18,
   "metadata": {},
   "outputs": [],
   "source": [
    "import numpy as np\n",
    "import random\n",
    "import seaborn as sns"
   ]
  },
  {
   "cell_type": "markdown",
   "metadata": {},
   "source": [
    "2) Случайная непрерывная величина A имеет равномерное распределение на промежутке (200, 800]. \n",
    "Найдите ее среднее значение и дисперсию."
   ]
  },
  {
   "cell_type": "code",
   "execution_count": 2,
   "metadata": {},
   "outputs": [],
   "source": [
    "A = np.array([200, 800])"
   ]
  },
  {
   "cell_type": "code",
   "execution_count": 5,
   "metadata": {},
   "outputs": [
    {
     "name": "stdout",
     "output_type": "stream",
     "text": [
      "Среднее значение распределения равно 500.0\n"
     ]
    }
   ],
   "source": [
    "print('Среднее значение распределения равно', A.mean())"
   ]
  },
  {
   "cell_type": "code",
   "execution_count": 27,
   "metadata": {},
   "outputs": [],
   "source": [
    "M = np.random.randn(100, 1000)"
   ]
  },
  {
   "cell_type": "code",
   "execution_count": 35,
   "metadata": {},
   "outputs": [
    {
     "data": {
      "text/plain": [
       "0.9860596784913581"
      ]
     },
     "execution_count": 35,
     "metadata": {},
     "output_type": "execute_result"
    }
   ],
   "source": [
    "np.var(M + A.mean())"
   ]
  },
  {
   "cell_type": "code",
   "execution_count": 36,
   "metadata": {},
   "outputs": [
    {
     "data": {
      "text/plain": [
       "<matplotlib.axes._subplots.AxesSubplot at 0x100be586a0>"
      ]
     },
     "execution_count": 36,
     "metadata": {},
     "output_type": "execute_result"
    },
    {
     "data": {
      "image/png": "[encoded data removed]",
      "text/plain": [
       "<Figure size 432x288 with 1 Axes>"
      ]
     },
     "metadata": {
      "needs_background": "light"
     },
     "output_type": "display_data"
    }
   ],
   "source": [
    "M = np.random.randn(5500)\n",
    "sns.distplot(M + A.mean())"
   ]
  },
  {
   "cell_type": "code",
   "execution_count": null,
   "metadata": {},
   "outputs": [],
   "source": []
  },
  {
   "cell_type": "markdown",
   "metadata": {},
   "source": [
    "2) О случайной непрерывной равномерно распределенной величине B известно, что ее дисперсия равна 0.2.\n",
    "Можно ли найти правую границу величины B и ее среднее значение зная, что левая граница равна 0.5?\n",
    "Если да, найдите ее."
   ]
  },
  {
   "cell_type": "code",
   "execution_count": 38,
   "metadata": {},
   "outputs": [],
   "source": [
    "D = 0.2\n",
    "b = 0.5"
   ]
  },
  {
   "cell_type": "code",
   "execution_count": 40,
   "metadata": {},
   "outputs": [
    {
     "name": "stdout",
     "output_type": "stream",
     "text": [
      "правая граница величины B равна  -1.0491933\n",
      "среднее значение величины B равна  -0.27459665\n"
     ]
    }
   ],
   "source": [
    "# дисперсия равномерного распределения рассчитываеться по формуле\n",
    "# D(X) = (b-a)**2 / 12\n",
    "# Уравнения нахождения а имеет 2 действительных корня\n",
    "# -1.0491933384829668\n",
    "# 2.049193338482967\n",
    "# Выбираем первыое решение, тк оно долно быть меньше b\n",
    "print('правая граница величины B равна ', -1.0491933)\n",
    "print('среднее значение величины B равна ', (-1.0491933 + 0.5) / 2)"
   ]
  },
  {
   "cell_type": "code",
   "execution_count": null,
   "metadata": {},
   "outputs": [],
   "source": []
  },
  {
   "cell_type": "markdown",
   "metadata": {},
   "source": [
    "Непрерывная случайная величина X распределена нормально и задана плотностью распределения\n",
    "f(x) = (1 / (4 * sqrt(2*pi))) * (exp(-(x+2)**2) / 32).\n",
    "Найдите:\n",
    "а). M(X)\n",
    "б). D(X)\n",
    "в). std(X) (среднее квадратичное отклонение)"
   ]
  },
  {
   "cell_type": "code",
   "execution_count": 49,
   "metadata": {},
   "outputs": [],
   "source": [
    "# Xq =  (1 / (4 * np.sqrt(2 * np.pi))) * (np.exp(-( X +2) ** 2) / 32)"
   ]
  },
  {
   "cell_type": "code",
   "execution_count": 51,
   "metadata": {},
   "outputs": [
    {
     "name": "stdout",
     "output_type": "stream",
     "text": [
      "Мат ожидание равно = -2\n",
      "Среднеквадратичное отклонение равно = 4\n",
      "Дисперсия равна 16\n"
     ]
    }
   ],
   "source": [
    "print('Мат ожидание равно =', -2)\n",
    "print('Среднеквадратичное отклонение равно =', 4)\n",
    "print('Дисперсия равна', 16)"
   ]
  },
  {
   "cell_type": "code",
   "execution_count": null,
   "metadata": {},
   "outputs": [],
   "source": []
  },
  {
   "cell_type": "markdown",
   "metadata": {},
   "source": [
    "Рост взрослого населения города X имеет нормальное распределение. \n",
    "Причем, средний рост равен 174 см, а среднее квадратичное отклонение равно 8 см.\n",
    "Какова вероятность того, что случайным образом выбранный взрослый человек имеет рост:\n",
    "а). больше 182 см\n",
    "б). больше 190 см\n",
    "в). от 166 см до 190 см\n",
    "г). от 166 см до 182 см\n",
    "д). от 158 см до 190 см\n",
    "е). не выше 150 см или не ниже 190 см\n",
    "ё). не выше 150 см или не ниже 198 см\n",
    "ж). ниже 166 см."
   ]
  },
  {
   "cell_type": "code",
   "execution_count": 59,
   "metadata": {},
   "outputs": [],
   "source": [
    "X_med = 174\n",
    "X_sqr = 8\n",
    "X_sigma = 8 ** 2"
   ]
  },
  {
   "cell_type": "code",
   "execution_count": 74,
   "metadata": {},
   "outputs": [
    {
     "data": {
      "text/plain": [
       "1.0"
      ]
     },
     "execution_count": 74,
     "metadata": {},
     "output_type": "execute_result"
    }
   ],
   "source": [
    "# а). больше 182 см \n",
    "h1 = 182\n",
    "(h1 - X_med) / X_sqr"
   ]
  },
  {
   "cell_type": "code",
   "execution_count": 66,
   "metadata": {},
   "outputs": [
    {
     "name": "stdout",
     "output_type": "stream",
     "text": [
      "Вероятность того, что случайным образом выбранный взрослый человек имеет рост: а). больше 182 см = 0.15869999999999995\n"
     ]
    }
   ],
   "source": [
    "# По таблице нормального распределения находим вероятность\n",
    "# квантиль 1 соответсвует значение 0.8413\n",
    "print('Вероятность того, что случайным образом выбранный взрослый человек имеет рост: а). больше 182 см =', 1 - 0.8413) "
   ]
  },
  {
   "cell_type": "code",
   "execution_count": 73,
   "metadata": {},
   "outputs": [
    {
     "data": {
      "text/plain": [
       "2.0"
      ]
     },
     "execution_count": 73,
     "metadata": {},
     "output_type": "execute_result"
    }
   ],
   "source": [
    "#  б). больше 190 см\n",
    "h2 = 190\n",
    "(h2 - X_med) / X_sqr"
   ]
  },
  {
   "cell_type": "code",
   "execution_count": 67,
   "metadata": {},
   "outputs": [
    {
     "name": "stdout",
     "output_type": "stream",
     "text": [
      "Вероятность того, что случайным образом выбранный взрослый человек имеет рост: а). больше 190 см = 0.022800000000000042\n"
     ]
    }
   ],
   "source": [
    "# По таблице нормального распределения находим вероятность\n",
    "# квантиль 2 соответсвует значение 0.9772\n",
    "print('Вероятность того, что случайным образом выбранный взрослый человек имеет рост: б). больше 190 см =', 1 - 0.9772) "
   ]
  },
  {
   "cell_type": "code",
   "execution_count": 72,
   "metadata": {},
   "outputs": [
    {
     "data": {
      "text/plain": [
       "-1.0"
      ]
     },
     "execution_count": 72,
     "metadata": {},
     "output_type": "execute_result"
    }
   ],
   "source": [
    "# в). от 166 см до 190 см\n",
    "h31 = 166\n",
    "h2 = 190\n",
    "(h31 - X_med) / X_sqr"
   ]
  },
  {
   "cell_type": "code",
   "execution_count": 75,
   "metadata": {},
   "outputs": [
    {
     "name": "stdout",
     "output_type": "stream",
     "text": [
      "Вероятность того, что случайным образом выбранный взрослый человек имеет рост: в). от 166 см до 190 см = 0.8185\n"
     ]
    }
   ],
   "source": [
    "# По таблице нормального распределения находим вероятность\n",
    "# квантиль -1 соответсвует значение (1 - 0.8413)\n",
    "# квантиль 2 соответсвует значение 0.9772\n",
    "print('Вероятность того, что случайным образом выбранный взрослый человек имеет рост: в). от 166 см до 190 см =',\\\n",
    "                      0.9772 - (1 - 0.8413) ) "
   ]
  },
  {
   "cell_type": "code",
   "execution_count": 77,
   "metadata": {},
   "outputs": [
    {
     "name": "stdout",
     "output_type": "stream",
     "text": [
      "Вероятность того, что случайным образом выбранный взрослый человек имеет рост: г). от 166 см до 182 см = 0.6826000000000001\n"
     ]
    }
   ],
   "source": [
    "# г). от 166 см до 182 см\n",
    "h41 = 166\n",
    "h1 = 182\n",
    "print('Вероятность того, что случайным образом выбранный взрослый человек имеет рост: г). от 166 см до 182 см =',\\\n",
    "                      0.8413 - (1 - 0.8413) ) "
   ]
  },
  {
   "cell_type": "code",
   "execution_count": 78,
   "metadata": {},
   "outputs": [
    {
     "data": {
      "text/plain": [
       "-2.0"
      ]
     },
     "execution_count": 78,
     "metadata": {},
     "output_type": "execute_result"
    }
   ],
   "source": [
    "# д). от 158 см до 190 см\n",
    "h51 = 158\n",
    "h2 = 190\n",
    "(h51 - X_med) / X_sqr"
   ]
  },
  {
   "cell_type": "code",
   "execution_count": 79,
   "metadata": {},
   "outputs": [
    {
     "name": "stdout",
     "output_type": "stream",
     "text": [
      "Вероятность того, что случайным образом выбранный взрослый человек имеет рост:  д). от 158 см до 190 см = 0.9543999999999999\n"
     ]
    }
   ],
   "source": [
    "# По таблице нормального распределения находим вероятность\n",
    "# квантиль -2 соответсвует значение (1 - 0.9772)\n",
    "print('Вероятность того, что случайным образом выбранный взрослый человек имеет рост:  д). от 158 см до 190 см =',\\\n",
    "                      0.9772 - (1 - 0.9772) ) "
   ]
  },
  {
   "cell_type": "code",
   "execution_count": null,
   "metadata": {},
   "outputs": [],
   "source": [
    "# е). не выше 150 см или не ниже 190 см"
   ]
  },
  {
   "cell_type": "code",
   "execution_count": 80,
   "metadata": {},
   "outputs": [
    {
     "data": {
      "text/plain": [
       "-3.0"
      ]
     },
     "execution_count": 80,
     "metadata": {},
     "output_type": "execute_result"
    }
   ],
   "source": [
    "h61 = 150\n",
    "h2 = 190\n",
    "(h61 - X_med) / X_sqr"
   ]
  },
  {
   "cell_type": "code",
   "execution_count": 83,
   "metadata": {},
   "outputs": [
    {
     "name": "stdout",
     "output_type": "stream",
     "text": [
      "Вероятность того, что случайным образом выбранный взрослый человек имеет рост: е). не выше 150 см или не ниже 190 см = 0.022800000000000042\n"
     ]
    }
   ],
   "source": [
    "# По таблице нормального распределения находим вероятность\n",
    "# квантиль -3 соответсвует значение (1 - 1)\n",
    "print('Вероятность того, что случайным образом выбранный взрослый человек имеет рост:\\\n",
    " е). не выше 150 см или не ниже 190 см =', 0 + (1 - 0.9772) ) "
   ]
  },
  {
   "cell_type": "code",
   "execution_count": 84,
   "metadata": {},
   "outputs": [
    {
     "data": {
      "text/plain": [
       "3.0"
      ]
     },
     "execution_count": 84,
     "metadata": {},
     "output_type": "execute_result"
    }
   ],
   "source": [
    "# ё). не выше 150 см или не ниже 198 см \n",
    "h61 = 150\n",
    "h72 = 198\n",
    "(h72 - X_med) / X_sqr"
   ]
  },
  {
   "cell_type": "code",
   "execution_count": 85,
   "metadata": {},
   "outputs": [
    {
     "name": "stdout",
     "output_type": "stream",
     "text": [
      "Вероятность того, что случайным образом выбранный взрослый человек имеет рост: ё). не выше 150 см или не ниже 198 см  = 0\n"
     ]
    }
   ],
   "source": [
    "# По таблице нормального распределения находим вероятность\n",
    "# квантиль 3 соответсвует значение 1\n",
    "print('Вероятность того, что случайным образом выбранный взрослый человек имеет рост:\\\n",
    " ё). не выше 150 см или не ниже 198 см  =', 0 + (1 - 1) ) "
   ]
  },
  {
   "cell_type": "code",
   "execution_count": 86,
   "metadata": {},
   "outputs": [
    {
     "data": {
      "text/plain": [
       "-1.0"
      ]
     },
     "execution_count": 86,
     "metadata": {},
     "output_type": "execute_result"
    }
   ],
   "source": [
    "# ж). ниже 166 см.\n",
    "h8 = 166\n",
    "(h8 - X_med) / X_sqr"
   ]
  },
  {
   "cell_type": "code",
   "execution_count": 87,
   "metadata": {},
   "outputs": [
    {
     "name": "stdout",
     "output_type": "stream",
     "text": [
      "Вероятность того, что случайным образом выбранный взрослый человек имеет рост: ж). ниже 166 см = 0.15869999999999995\n"
     ]
    }
   ],
   "source": [
    "# По таблице нормального распределения находим вероятность\n",
    "# квантиль -1 соответсвует значение (1 - 0.8413)\n",
    "print('Вероятность того, что случайным образом выбранный взрослый человек имеет рост: ж). ниже 166 см =', (1 - 0.8413))"
   ]
  },
  {
   "cell_type": "code",
   "execution_count": null,
   "metadata": {},
   "outputs": [],
   "source": []
  },
  {
   "cell_type": "markdown",
   "metadata": {},
   "source": [
    "На сколько сигм (средних квадратичных отклонений) отклоняется рост человека, равный 190 см, от \n",
    "математического ожидания роста в популяции, в которой M(X) = 178 см и D(X) = 25 кв.см?"
   ]
  },
  {
   "cell_type": "code",
   "execution_count": 88,
   "metadata": {},
   "outputs": [
    {
     "name": "stdout",
     "output_type": "stream",
     "text": [
      "Рост человека, равный 190 см отклоняется на кол-во сигм равное  2.4\n"
     ]
    }
   ],
   "source": [
    "d = np.sqrt(25)\n",
    "M = 178\n",
    "h = 190\n",
    "print('Рост человека, равный 190 см отклоняется на кол-во сигм равное ', (h - M) / d)"
   ]
  },
  {
   "cell_type": "code",
   "execution_count": null,
   "metadata": {},
   "outputs": [],
   "source": []
  }
 ],
 "metadata": {
  "kernelspec": {
   "display_name": "Python 3",
   "language": "python",
   "name": "python3"
  },
  "language_info": {
   "codemirror_mode": {
    "name": "ipython",
    "version": 3
   },
   "file_extension": ".py",
   "mimetype": "text/x-python",
   "name": "python",
   "nbconvert_exporter": "python",
   "pygments_lexer": "ipython3",
   "version": "3.7.1"
  }
 },
 "nbformat": 4,
 "nbformat_minor": 2
}
