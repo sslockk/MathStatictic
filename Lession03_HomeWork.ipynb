{
 "cells": [
  {
   "cell_type": "code",
   "execution_count": 12,
   "metadata": {},
   "outputs": [],
   "source": [
    "import numpy as np\n",
    "import pandas as pd\n",
    "import matplotlib.pyplot as plt\n",
    "from math import factorial as fl\n",
    "%matplotlib inline"
   ]
  },
  {
   "cell_type": "markdown",
   "metadata": {},
   "source": [
    "### Урок 3. Описательная статистика. Качественные и количественные характеристики популяции. Графическое представление данных"
   ]
  },
  {
   "cell_type": "markdown",
   "metadata": {},
   "source": [
    "1) Даны значения зарплат из выборки выпускников: 100, 80, 75, 77, 89, 33, 45, 25, 65, 17, 30, 24, 57, 55, 70, 75, 65, 84, 90, 150. Посчитать (желательно без использования статистических методов наподобие std, var, mean) среднее арифметическое, среднее квадратичное отклонение, смещенную и несмещенную оценки дисперсий для данной выборки."
   ]
  },
  {
   "cell_type": "code",
   "execution_count": 2,
   "metadata": {},
   "outputs": [],
   "source": [
    "salary = [100, 80, 75, 77, 89, 33, 45, 25, 65, 17, 30, 24, 57, 55, 70, 75, 65, 84, 90, 150]"
   ]
  },
  {
   "cell_type": "code",
   "execution_count": 5,
   "metadata": {},
   "outputs": [],
   "source": [
    "salary.sort()"
   ]
  },
  {
   "cell_type": "code",
   "execution_count": 9,
   "metadata": {},
   "outputs": [
    {
     "name": "stdout",
     "output_type": "stream",
     "text": [
      "среднее арифметическое =  65.3\n"
     ]
    }
   ],
   "source": [
    "summ = 0\n",
    "for i in range(len(salary)):\n",
    "    summ += salary[i]\n",
    "print('среднее арифметическое = ', summ / len(salary))\n",
    "mean_ = summ / len(salary)"
   ]
  },
  {
   "cell_type": "code",
   "execution_count": 11,
   "metadata": {},
   "outputs": [
    {
     "name": "stdout",
     "output_type": "stream",
     "text": [
      "среднее квадратичное отклонение =  30.823854398825596\n",
      " смещенную оценка дисперсии для данной выборки =  950.11\n",
      " несмещенную оценка дисперсии для данной выборки =  1000.1157894736842\n"
     ]
    }
   ],
   "source": [
    "summ2 = 0\n",
    "for i in range(len(salary)):\n",
    "    summ2 += (salary[i] - mean_) ** 2\n",
    "msqr = np.sqrt(summ2 / len(salary))\n",
    "print('среднее квадратичное отклонение = ', msqr)\n",
    "print(' смещенную оценка дисперсии для данной выборки = ', summ2 / len(salary))\n",
    "print(' несмещенную оценка дисперсии для данной выборки = ', summ2 / (len(salary) - 1))"
   ]
  },
  {
   "cell_type": "code",
   "execution_count": null,
   "metadata": {},
   "outputs": [],
   "source": []
  },
  {
   "cell_type": "markdown",
   "metadata": {},
   "source": [
    "2) В первом ящике находится 8 мячей, из которых 5 - белые. Во втором ящике - 12 мячей, из которых 5 белых. Из первого ящика вытаскивают случайным образом два мяча, из второго - 4. Какова вероятность того, что 3 мяча белые?"
   ]
  },
  {
   "cell_type": "code",
   "execution_count": 13,
   "metadata": {},
   "outputs": [],
   "source": [
    "def C(k, n):\n",
    "    return fl(n) / (fl(k) * fl(n - k))"
   ]
  },
  {
   "cell_type": "code",
   "execution_count": 19,
   "metadata": {},
   "outputs": [],
   "source": [
    "ver1 = C(2, 5)/C(5, 8) * (C(1, 5) * C(3, 7)/C(5, 12))"
   ]
  },
  {
   "cell_type": "code",
   "execution_count": 20,
   "metadata": {},
   "outputs": [],
   "source": [
    "ver2 = (C(1, 5) * C(1, 3)/C(5, 8)) * (C(2, 5) * C(2, 7)/C(5, 12))"
   ]
  },
  {
   "cell_type": "code",
   "execution_count": 21,
   "metadata": {},
   "outputs": [],
   "source": [
    "ver3 = (C(0, 5) * C(2, 3)/C(5, 8)) * (C(3, 5) * C(1, 7)/C(5, 12))"
   ]
  },
  {
   "cell_type": "code",
   "execution_count": 23,
   "metadata": {},
   "outputs": [
    {
     "data": {
      "text/plain": [
       "0.11521464646464646"
      ]
     },
     "execution_count": 23,
     "metadata": {},
     "output_type": "execute_result"
    }
   ],
   "source": [
    "p = ver1 + ver2 + ver3\n",
    "p"
   ]
  },
  {
   "cell_type": "code",
   "execution_count": null,
   "metadata": {},
   "outputs": [],
   "source": []
  },
  {
   "cell_type": "markdown",
   "metadata": {},
   "source": [
    "3) На соревновании по биатлону один из трех спортсменов стреляет и попадает в мишень. Вероятность попадания для первого спортсмена равна 0.9, для второго — 0.8, для третьего — 0.6. Найти вероятность того, что выстрел произведен: a). первым спортсменом б). вторым спортсменом в). третьим спортсменом."
   ]
  },
  {
   "cell_type": "code",
   "execution_count": 25,
   "metadata": {},
   "outputs": [],
   "source": [
    "p1 = 0.9\n",
    "p2 = 0.8\n",
    "p3 = 0.6"
   ]
  },
  {
   "cell_type": "code",
   "execution_count": 37,
   "metadata": {},
   "outputs": [],
   "source": [
    "x = 1 / (p1 + p2 + p3)"
   ]
  },
  {
   "cell_type": "code",
   "execution_count": 41,
   "metadata": {},
   "outputs": [
    {
     "name": "stdout",
     "output_type": "stream",
     "text": [
      "Найти вероятность того, что выстрел произведен: a). первым спортсменом = 0.3913043478260869\n",
      "Найти вероятность того, что выстрел произведен: б). вторым спортсменом = 0.34782608695652173\n",
      "Найти вероятность того, что выстрел произведен: в). третьим спортсменом. = 0.26086956521739124\n"
     ]
    }
   ],
   "source": [
    "print('Найти вероятность того, что выстрел произведен: a). первым спортсменом =', p1 * x)\n",
    "print('Найти вероятность того, что выстрел произведен: б). вторым спортсменом =', p2 * x)\n",
    "print('Найти вероятность того, что выстрел произведен: в). третьим спортсменом. =', p3 * x)"
   ]
  },
  {
   "cell_type": "code",
   "execution_count": null,
   "metadata": {},
   "outputs": [],
   "source": []
  },
  {
   "cell_type": "markdown",
   "metadata": {},
   "source": [
    "3) В университет на факультеты A и B поступило равное количество студентов, а на факультет C студентов поступило столько же, сколько на A и B вместе. Вероятность того, что студент факультета A сдаст первую сессию, равна 0.8. Для студента факультета B эта вероятность равна 0.7, а для студента факультета C - 0.9. Студент сдал первую сессию. Какова вероятность, что он учится: a). на факультете A б). на факультете B в). на факультете C?"
   ]
  },
  {
   "cell_type": "code",
   "execution_count": 48,
   "metadata": {},
   "outputs": [],
   "source": [
    "# A = B\n",
    "# C = A + B\n",
    "pA = 0.8\n",
    "pB = 0.7\n",
    "pC = 0.9\n",
    "# (A*pA + B*pB + C*pC)*x = 1\n",
    "# x = 1/(A*pA + B*pB + C*pC)\n",
    "# x = 1/(A*pA + A*pB + 2*A*pC)\n",
    "# x = 1/(pA + pB + 2*pC) * A\n",
    "x = 1 / (pA + pB + 2*pC)"
   ]
  },
  {
   "cell_type": "code",
   "execution_count": 49,
   "metadata": {},
   "outputs": [
    {
     "name": "stdout",
     "output_type": "stream",
     "text": [
      "Студент учится: a). на факультете A = 0.24242424242424243\n",
      "Студент учится: a). на факультете B = 0.21212121212121213\n",
      "Студент учится: a). на факультете C = 0.5454545454545455\n"
     ]
    }
   ],
   "source": [
    "print('Студент учится: a). на факультете A =', pA * x)\n",
    "print('Студент учится: a). на факультете B =', pB * x)\n",
    "print('Студент учится: a). на факультете C =', 2 * pC * x)"
   ]
  },
  {
   "cell_type": "code",
   "execution_count": null,
   "metadata": {},
   "outputs": [],
   "source": []
  },
  {
   "cell_type": "markdown",
   "metadata": {},
   "source": [
    "4) Устройство состоит из трех деталей. Для первой детали вероятность выйти из строя в первый месяц равна 0.1, для второй - 0.2, для третьей - 0.25. Какова вероятность того, что в первый месяц выйдут из строя: а). все детали б). только две детали в). хотя бы одна деталь г). от одной до двух деталей?"
   ]
  },
  {
   "cell_type": "code",
   "execution_count": 59,
   "metadata": {},
   "outputs": [],
   "source": [
    "p1 = 0.1\n",
    "p2 = 0.2\n",
    "p3 = 0.25"
   ]
  },
  {
   "cell_type": "code",
   "execution_count": 83,
   "metadata": {},
   "outputs": [
    {
     "name": "stdout",
     "output_type": "stream",
     "text": [
      ". Какова вероятность того, что в первый месяц выйдут из строя: а). все детали = 0.005000000000000001\n"
     ]
    }
   ],
   "source": [
    "print('. Какова вероятность того, что в первый месяц выйдут из строя: а). все детали =',\\\n",
    "                                                      (p1 * p2 * p3))"
   ]
  },
  {
   "cell_type": "code",
   "execution_count": 98,
   "metadata": {},
   "outputs": [
    {
     "name": "stdout",
     "output_type": "stream",
     "text": [
      ". Какова вероятность того, что в первый месяц выйдут из строя: б). только две детали  = 0.08\n"
     ]
    }
   ],
   "source": [
    "print('. Какова вероятность того, что в первый месяц выйдут из строя: б). только две детали  =', \\\n",
    "                                                (1-p1)*p2*p3 + p1*(1-p2)*p3 + p1*p2*(1-p3))"
   ]
  },
  {
   "cell_type": "code",
   "execution_count": 94,
   "metadata": {},
   "outputs": [
    {
     "name": "stdout",
     "output_type": "stream",
     "text": [
      ". Какова вероятность того, что в первый месяц выйдут из строя: в). хотя бы одна деталь = 0.45999999999999996\n"
     ]
    }
   ],
   "source": [
    "print('. Какова вероятность того, что в первый месяц выйдут из строя: в). хотя бы одна деталь =', \\\n",
    "                                                      1 - (1-p1) * (1-p2) * (1-p3))\n"
   ]
  },
  {
   "cell_type": "code",
   "execution_count": 99,
   "metadata": {},
   "outputs": [
    {
     "name": "stdout",
     "output_type": "stream",
     "text": [
      ". Какова вероятность того, что в первый месяц выйдут из строя: г). от одной до двух деталей = 0.45499999999999996\n"
     ]
    }
   ],
   "source": [
    "print('. Какова вероятность того, что в первый месяц выйдут из строя: г). от одной до двух деталей =',\\\n",
    "                                  (1 - (1-p1) * (1-p2) * (1-p3)) - (p1 * p2 * p3))"
   ]
  },
  {
   "cell_type": "code",
   "execution_count": null,
   "metadata": {},
   "outputs": [],
   "source": []
  },
  {
   "cell_type": "code",
   "execution_count": null,
   "metadata": {},
   "outputs": [],
   "source": []
  },
  {
   "cell_type": "code",
   "execution_count": null,
   "metadata": {},
   "outputs": [],
   "source": []
  },
  {
   "cell_type": "code",
   "execution_count": null,
   "metadata": {},
   "outputs": [],
   "source": []
  },
  {
   "cell_type": "code",
   "execution_count": null,
   "metadata": {},
   "outputs": [],
   "source": []
  },
  {
   "cell_type": "code",
   "execution_count": null,
   "metadata": {},
   "outputs": [],
   "source": []
  }
 ],
 "metadata": {
  "kernelspec": {
   "display_name": "Python 3",
   "language": "python",
   "name": "python3"
  },
  "language_info": {
   "codemirror_mode": {
    "name": "ipython",
    "version": 3
   },
   "file_extension": ".py",
   "mimetype": "text/x-python",
   "name": "python",
   "nbconvert_exporter": "python",
   "pygments_lexer": "ipython3",
   "version": "3.7.1"
  }
 },
 "nbformat": 4,
 "nbformat_minor": 2
}
